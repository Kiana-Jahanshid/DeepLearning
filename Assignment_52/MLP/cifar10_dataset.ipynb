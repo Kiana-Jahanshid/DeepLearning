{
  "nbformat": 4,
  "nbformat_minor": 0,
  "metadata": {
    "colab": {
      "provenance": []
    },
    "kernelspec": {
      "name": "python3",
      "display_name": "Python 3"
    },
    "language_info": {
      "name": "python"
    }
  },
  "cells": [
    {
      "cell_type": "code",
      "execution_count": 18,
      "metadata": {
        "id": "bKVcs_8DXV0r"
      },
      "outputs": [],
      "source": [
        "import tensorflow as tf\n",
        "import matplotlib.pyplot as plt"
      ]
    },
    {
      "cell_type": "code",
      "source": [
        "cifar = tf.keras.datasets.cifar10\n",
        "(x_train , y_train) , (x_test , y_test) = cifar.load_data()\n",
        "x_train , x_test = x_train / 255.0 , x_test / 255.0"
      ],
      "metadata": {
        "id": "H2EsblkvXZwd"
      },
      "execution_count": 19,
      "outputs": []
    },
    {
      "cell_type": "code",
      "source": [
        "x_train[15].shape"
      ],
      "metadata": {
        "colab": {
          "base_uri": "https://localhost:8080/"
        },
        "id": "njq5UcT1lFkw",
        "outputId": "96176a77-1c10-4e48-b185-984d7ba45dd9"
      },
      "execution_count": 20,
      "outputs": [
        {
          "output_type": "execute_result",
          "data": {
            "text/plain": [
              "(32, 32, 3)"
            ]
          },
          "metadata": {},
          "execution_count": 20
        }
      ]
    },
    {
      "cell_type": "code",
      "source": [
        "model = tf.keras.models.Sequential([\n",
        "    tf.keras.layers.Flatten(input_shape = (32 ,32 ,3)),\n",
        "    tf.keras.layers.Dense(128 , activation= \"relu\" ),\n",
        "    tf.keras.layers.Dense(256 , activation= \"relu\" ),\n",
        "    tf.keras.layers.Dense(512 , activation= \"relu\" ),\n",
        "    tf.keras.layers.Dropout(0.5),\n",
        "    tf.keras.layers.Dense(100  ,activation= \"softmax\")\n",
        "])"
      ],
      "metadata": {
        "id": "HyeU5T4_Yc9b"
      },
      "execution_count": 21,
      "outputs": []
    },
    {
      "cell_type": "code",
      "source": [
        "model.compile(optimizer= \"adam\" ,\n",
        "              loss= \"sparse_categorical_crossentropy\" ,\n",
        "              metrics= ['accuracy'])"
      ],
      "metadata": {
        "id": "Dy8U6GO0Zuob"
      },
      "execution_count": 22,
      "outputs": []
    },
    {
      "cell_type": "code",
      "source": [
        "out = model.fit(x_train , y_train , epochs= 30)\n",
        "model.evaluate(x_test , y_test)"
      ],
      "metadata": {
        "colab": {
          "base_uri": "https://localhost:8080/"
        },
        "id": "2Bgun7QRdgj3",
        "outputId": "0a6710a2-f04b-4728-f2fc-66741fcf2522"
      },
      "execution_count": 23,
      "outputs": [
        {
          "output_type": "stream",
          "name": "stdout",
          "text": [
            "Epoch 1/30\n",
            "1563/1563 [==============================] - 17s 10ms/step - loss: 1.9238 - accuracy: 0.3060\n",
            "Epoch 2/30\n",
            "1563/1563 [==============================] - 17s 11ms/step - loss: 1.7262 - accuracy: 0.3784\n",
            "Epoch 3/30\n",
            "1563/1563 [==============================] - 16s 11ms/step - loss: 1.6538 - accuracy: 0.4055\n",
            "Epoch 4/30\n",
            "1563/1563 [==============================] - 17s 11ms/step - loss: 1.6069 - accuracy: 0.4215\n",
            "Epoch 5/30\n",
            "1563/1563 [==============================] - 17s 11ms/step - loss: 1.5737 - accuracy: 0.4360\n",
            "Epoch 6/30\n",
            "1563/1563 [==============================] - 15s 10ms/step - loss: 1.5524 - accuracy: 0.4427\n",
            "Epoch 7/30\n",
            "1563/1563 [==============================] - 15s 9ms/step - loss: 1.5353 - accuracy: 0.4504\n",
            "Epoch 8/30\n",
            "1563/1563 [==============================] - 14s 9ms/step - loss: 1.5172 - accuracy: 0.4565\n",
            "Epoch 9/30\n",
            "1563/1563 [==============================] - 14s 9ms/step - loss: 1.5085 - accuracy: 0.4576\n",
            "Epoch 10/30\n",
            "1563/1563 [==============================] - 16s 10ms/step - loss: 1.4964 - accuracy: 0.4641\n",
            "Epoch 11/30\n",
            "1563/1563 [==============================] - 15s 10ms/step - loss: 1.4845 - accuracy: 0.4688\n",
            "Epoch 12/30\n",
            "1563/1563 [==============================] - 16s 10ms/step - loss: 1.4740 - accuracy: 0.4714\n",
            "Epoch 13/30\n",
            "1563/1563 [==============================] - 15s 9ms/step - loss: 1.4657 - accuracy: 0.4737\n",
            "Epoch 14/30\n",
            "1563/1563 [==============================] - 15s 10ms/step - loss: 1.4548 - accuracy: 0.4785\n",
            "Epoch 15/30\n",
            "1563/1563 [==============================] - 14s 9ms/step - loss: 1.4482 - accuracy: 0.4778\n",
            "Epoch 16/30\n",
            "1563/1563 [==============================] - 14s 9ms/step - loss: 1.4407 - accuracy: 0.4837\n",
            "Epoch 17/30\n",
            "1563/1563 [==============================] - 15s 10ms/step - loss: 1.4304 - accuracy: 0.4858\n",
            "Epoch 18/30\n",
            "1563/1563 [==============================] - 16s 11ms/step - loss: 1.4217 - accuracy: 0.4906\n",
            "Epoch 19/30\n",
            "1563/1563 [==============================] - 15s 10ms/step - loss: 1.4139 - accuracy: 0.4939\n",
            "Epoch 20/30\n",
            "1563/1563 [==============================] - 15s 10ms/step - loss: 1.4102 - accuracy: 0.4920\n",
            "Epoch 21/30\n",
            "1563/1563 [==============================] - 15s 10ms/step - loss: 1.4023 - accuracy: 0.4957\n",
            "Epoch 22/30\n",
            "1563/1563 [==============================] - 16s 10ms/step - loss: 1.4002 - accuracy: 0.4967\n",
            "Epoch 23/30\n",
            "1563/1563 [==============================] - 17s 11ms/step - loss: 1.3975 - accuracy: 0.4957\n",
            "Epoch 24/30\n",
            "1563/1563 [==============================] - 15s 10ms/step - loss: 1.3847 - accuracy: 0.5026\n",
            "Epoch 25/30\n",
            "1563/1563 [==============================] - 15s 10ms/step - loss: 1.3866 - accuracy: 0.5027\n",
            "Epoch 26/30\n",
            "1563/1563 [==============================] - 16s 10ms/step - loss: 1.3768 - accuracy: 0.5038\n",
            "Epoch 27/30\n",
            "1563/1563 [==============================] - 14s 9ms/step - loss: 1.3745 - accuracy: 0.5045\n",
            "Epoch 28/30\n",
            "1563/1563 [==============================] - 15s 10ms/step - loss: 1.3694 - accuracy: 0.5073\n",
            "Epoch 29/30\n",
            "1563/1563 [==============================] - 14s 9ms/step - loss: 1.3612 - accuracy: 0.5106\n",
            "Epoch 30/30\n",
            "1563/1563 [==============================] - 13s 9ms/step - loss: 1.3611 - accuracy: 0.5080\n",
            "313/313 [==============================] - 1s 3ms/step - loss: 1.4839 - accuracy: 0.4826\n"
          ]
        },
        {
          "output_type": "execute_result",
          "data": {
            "text/plain": [
              "[1.4839013814926147, 0.48260000348091125]"
            ]
          },
          "metadata": {},
          "execution_count": 23
        }
      ]
    },
    {
      "cell_type": "code",
      "source": [
        "plt.plot(out.history[\"loss\"] )\n",
        "plt.plot( out.history[\"accuracy\"])\n",
        "plt.xlabel(\"epoches\")\n",
        "plt.ylabel(\"loss\")\n",
        "plt.title(\"train loss & accuracy\")\n",
        "plt.legend([\"loss\" , \"accuracy\"])\n",
        "plt.show()"
      ],
      "metadata": {
        "colab": {
          "base_uri": "https://localhost:8080/",
          "height": 472
        },
        "id": "4r0a5NQ-O3GO",
        "outputId": "37963425-8360-4488-d494-d4c3d1a170f5"
      },
      "execution_count": 24,
      "outputs": [
        {
          "output_type": "display_data",
          "data": {
            "text/plain": [
              "<Figure size 640x480 with 1 Axes>"
            ],
            "image/png": "[encoded data removed]"
          },
          "metadata": {}
        }
      ]
    }
  ]
}