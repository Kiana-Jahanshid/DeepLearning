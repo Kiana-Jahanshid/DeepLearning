{
  "nbformat": 4,
  "nbformat_minor": 0,
  "metadata": {
    "colab": {
      "provenance": []
    },
    "kernelspec": {
      "name": "python3",
      "display_name": "Python 3"
    },
    "language_info": {
      "name": "python"
    }
  },
  "cells": [
    {
      "cell_type": "code",
      "execution_count": 1,
      "metadata": {
        "id": "bKVcs_8DXV0r"
      },
      "outputs": [],
      "source": [
        "import tensorflow as tf\n",
        "import matplotlib.pyplot as plt"
      ]
    },
    {
      "cell_type": "code",
      "source": [
        "cifar = tf.keras.datasets.cifar100\n",
        "(x_train , y_train) , (x_test , y_test) = cifar.load_data()\n",
        "x_train , x_test = x_train / 255.0 , x_test / 255.0"
      ],
      "metadata": {
        "id": "H2EsblkvXZwd",
        "colab": {
          "base_uri": "https://localhost:8080/"
        },
        "outputId": "a54d1e34-a8e7-4fa0-9a20-47c4dc8b2f80"
      },
      "execution_count": 2,
      "outputs": [
        {
          "output_type": "stream",
          "name": "stdout",
          "text": [
            "Downloading data from https://www.cs.toronto.edu/~kriz/cifar-100-python.tar.gz\n",
            "169001437/169001437 [==============================] - 6s 0us/step\n"
          ]
        }
      ]
    },
    {
      "cell_type": "code",
      "source": [
        "x_train[15].shape"
      ],
      "metadata": {
        "colab": {
          "base_uri": "https://localhost:8080/"
        },
        "id": "njq5UcT1lFkw",
        "outputId": "9ceef945-f6c3-4c91-8585-cc6056dc8321"
      },
      "execution_count": 4,
      "outputs": [
        {
          "output_type": "execute_result",
          "data": {
            "text/plain": [
              "(32, 32, 3)"
            ]
          },
          "metadata": {},
          "execution_count": 4
        }
      ]
    },
    {
      "cell_type": "code",
      "source": [
        "model = tf.keras.models.Sequential([\n",
        "    tf.keras.layers.Flatten(input_shape = (32 ,32 ,3)),\n",
        "    tf.keras.layers.Dense(128 , activation= \"relu\" ),\n",
        "    tf.keras.layers.Dense(256 , activation= \"relu\" ),\n",
        "    tf.keras.layers.Dense(512 , activation= \"relu\" ),\n",
        "    tf.keras.layers.Dropout(0.5),\n",
        "    tf.keras.layers.Dense(100  ,activation= \"softmax\")\n",
        "])"
      ],
      "metadata": {
        "id": "HyeU5T4_Yc9b"
      },
      "execution_count": 5,
      "outputs": []
    },
    {
      "cell_type": "code",
      "source": [
        "model.compile(optimizer= \"adam\" ,\n",
        "              loss= \"sparse_categorical_crossentropy\" ,\n",
        "              metrics= ['accuracy'])"
      ],
      "metadata": {
        "id": "Dy8U6GO0Zuob"
      },
      "execution_count": 6,
      "outputs": []
    },
    {
      "cell_type": "code",
      "source": [
        "model.fit(x_train , y_train , epochs= 30)\n",
        "model.evaluate(x_test , y_test)"
      ],
      "metadata": {
        "colab": {
          "base_uri": "https://localhost:8080/"
        },
        "id": "2Bgun7QRdgj3",
        "outputId": "80ab6554-fce8-4ae7-b5fa-74be80dcfbe5"
      },
      "execution_count": 7,
      "outputs": [
        {
          "output_type": "stream",
          "name": "stdout",
          "text": [
            "Epoch 1/30\n",
            "1563/1563 [==============================] - 16s 9ms/step - loss: 4.2336 - accuracy: 0.0464\n",
            "Epoch 2/30\n",
            "1563/1563 [==============================] - 13s 8ms/step - loss: 3.9884 - accuracy: 0.0729\n",
            "Epoch 3/30\n",
            "1563/1563 [==============================] - 13s 8ms/step - loss: 3.9178 - accuracy: 0.0849\n",
            "Epoch 4/30\n",
            "1563/1563 [==============================] - 13s 8ms/step - loss: 3.8770 - accuracy: 0.0903\n",
            "Epoch 5/30\n",
            "1563/1563 [==============================] - 13s 8ms/step - loss: 3.8428 - accuracy: 0.0967\n",
            "Epoch 6/30\n",
            "1563/1563 [==============================] - 12s 8ms/step - loss: 3.8308 - accuracy: 0.0978\n",
            "Epoch 7/30\n",
            "1563/1563 [==============================] - 12s 8ms/step - loss: 3.8168 - accuracy: 0.1006\n",
            "Epoch 8/30\n",
            "1563/1563 [==============================] - 13s 8ms/step - loss: 3.8040 - accuracy: 0.1030\n",
            "Epoch 9/30\n",
            "1563/1563 [==============================] - 12s 8ms/step - loss: 3.7902 - accuracy: 0.1041\n",
            "Epoch 10/30\n",
            "1563/1563 [==============================] - 12s 8ms/step - loss: 3.7836 - accuracy: 0.1052\n",
            "Epoch 11/30\n",
            "1563/1563 [==============================] - 13s 8ms/step - loss: 3.7801 - accuracy: 0.1050\n",
            "Epoch 12/30\n",
            "1563/1563 [==============================] - 12s 8ms/step - loss: 3.7730 - accuracy: 0.1070\n",
            "Epoch 13/30\n",
            "1563/1563 [==============================] - 13s 8ms/step - loss: 3.7615 - accuracy: 0.1072\n",
            "Epoch 14/30\n",
            "1563/1563 [==============================] - 13s 9ms/step - loss: 3.7612 - accuracy: 0.1067\n",
            "Epoch 15/30\n",
            "1563/1563 [==============================] - 14s 9ms/step - loss: 3.7574 - accuracy: 0.1090\n",
            "Epoch 16/30\n",
            "1563/1563 [==============================] - 15s 9ms/step - loss: 3.7475 - accuracy: 0.1108\n",
            "Epoch 17/30\n",
            "1563/1563 [==============================] - 13s 8ms/step - loss: 3.7351 - accuracy: 0.1135\n",
            "Epoch 18/30\n",
            "1563/1563 [==============================] - 13s 8ms/step - loss: 3.7205 - accuracy: 0.1160\n",
            "Epoch 19/30\n",
            "1563/1563 [==============================] - 13s 8ms/step - loss: 3.7132 - accuracy: 0.1167\n",
            "Epoch 20/30\n",
            "1563/1563 [==============================] - 13s 8ms/step - loss: 3.7100 - accuracy: 0.1173\n",
            "Epoch 21/30\n",
            "1563/1563 [==============================] - 13s 8ms/step - loss: 3.7029 - accuracy: 0.1205\n",
            "Epoch 22/30\n",
            "1563/1563 [==============================] - 13s 8ms/step - loss: 3.6885 - accuracy: 0.1198\n",
            "Epoch 23/30\n",
            "1563/1563 [==============================] - 13s 9ms/step - loss: 3.6838 - accuracy: 0.1213\n",
            "Epoch 24/30\n",
            "1563/1563 [==============================] - 13s 9ms/step - loss: 3.6783 - accuracy: 0.1233\n",
            "Epoch 25/30\n",
            "1563/1563 [==============================] - 13s 8ms/step - loss: 3.6680 - accuracy: 0.1231\n",
            "Epoch 26/30\n",
            "1563/1563 [==============================] - 14s 9ms/step - loss: 3.6648 - accuracy: 0.1245\n",
            "Epoch 27/30\n",
            "1563/1563 [==============================] - 13s 9ms/step - loss: 3.6588 - accuracy: 0.1277\n",
            "Epoch 28/30\n",
            "1563/1563 [==============================] - 14s 9ms/step - loss: 3.6533 - accuracy: 0.1269\n",
            "Epoch 29/30\n",
            "1563/1563 [==============================] - 13s 8ms/step - loss: 3.6437 - accuracy: 0.1278\n",
            "Epoch 30/30\n",
            "1563/1563 [==============================] - 14s 9ms/step - loss: 3.6467 - accuracy: 0.1267\n",
            "313/313 [==============================] - 1s 3ms/step - loss: 3.6660 - accuracy: 0.1339\n"
          ]
        },
        {
          "output_type": "execute_result",
          "data": {
            "text/plain": [
              "[3.6659891605377197, 0.1339000016450882]"
            ]
          },
          "metadata": {},
          "execution_count": 7
        }
      ]
    }
  ]
}