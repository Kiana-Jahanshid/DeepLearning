{
  "nbformat": 4,
  "nbformat_minor": 0,
  "metadata": {
    "colab": {
      "provenance": []
    },
    "kernelspec": {
      "name": "python3",
      "display_name": "Python 3"
    },
    "language_info": {
      "name": "python"
    }
  },
  "cells": [
    {
      "cell_type": "code",
      "execution_count": 18,
      "metadata": {
        "id": "bKVcs_8DXV0r"
      },
      "outputs": [],
      "source": [
        "import tensorflow as tf\n",
        "import matplotlib.pyplot as plt"
      ]
    },
    {
      "cell_type": "code",
      "source": [
        "fmnist = tf.keras.datasets.fashion_mnist\n",
        "(x_train , y_train) , (x_test , y_test) = fmnist.load_data()\n",
        "x_train , x_test = x_train / 255.0 , x_test / 255.0"
      ],
      "metadata": {
        "id": "H2EsblkvXZwd",
        "colab": {
          "base_uri": "https://localhost:8080/"
        },
        "outputId": "0a36a119-775d-4555-80e8-b31348598884"
      },
      "execution_count": 19,
      "outputs": [
        {
          "output_type": "stream",
          "name": "stdout",
          "text": [
            "Downloading data from https://storage.googleapis.com/tensorflow/tf-keras-datasets/train-labels-idx1-ubyte.gz\n",
            "29515/29515 [==============================] - 0s 0us/step\n",
            "Downloading data from https://storage.googleapis.com/tensorflow/tf-keras-datasets/train-images-idx3-ubyte.gz\n",
            "26421880/26421880 [==============================] - 0s 0us/step\n",
            "Downloading data from https://storage.googleapis.com/tensorflow/tf-keras-datasets/t10k-labels-idx1-ubyte.gz\n",
            "5148/5148 [==============================] - 0s 0us/step\n",
            "Downloading data from https://storage.googleapis.com/tensorflow/tf-keras-datasets/t10k-images-idx3-ubyte.gz\n",
            "4422102/4422102 [==============================] - 0s 0us/step\n"
          ]
        }
      ]
    },
    {
      "cell_type": "code",
      "source": [
        "plt.imshow(x_train[15] , cmap=\"gray\")"
      ],
      "metadata": {
        "colab": {
          "base_uri": "https://localhost:8080/",
          "height": 447
        },
        "id": "vYEbhSQEYCd4",
        "outputId": "49cb6e06-0a1a-4e4a-ad69-a121414b7c9b"
      },
      "execution_count": 21,
      "outputs": [
        {
          "output_type": "execute_result",
          "data": {
            "text/plain": [
              "<matplotlib.image.AxesImage at 0x7a20dd5b6920>"
            ]
          },
          "metadata": {},
          "execution_count": 21
        },
        {
          "output_type": "display_data",
          "data": {
            "text/plain": [
              "<Figure size 640x480 with 1 Axes>"
            ],
            "image/png": "[encoded data removed]"
          },
          "metadata": {}
        }
      ]
    },
    {
      "cell_type": "code",
      "source": [
        "model = tf.keras.models.Sequential([\n",
        "    tf.keras.layers.Flatten(input_shape = (28 ,28)),\n",
        "    tf.keras.layers.Dense(128 , activation= \"relu\" ),\n",
        "    tf.keras.layers.Dropout(0.2),\n",
        "    tf.keras.layers.Dense(10  ,activation= \"softmax\")\n",
        "])"
      ],
      "metadata": {
        "id": "HyeU5T4_Yc9b"
      },
      "execution_count": 22,
      "outputs": []
    },
    {
      "cell_type": "code",
      "source": [
        "model.compile(optimizer= \"adam\" ,\n",
        "              loss= \"sparse_categorical_crossentropy\" ,\n",
        "              metrics= ['accuracy'])"
      ],
      "metadata": {
        "id": "Dy8U6GO0Zuob"
      },
      "execution_count": 23,
      "outputs": []
    },
    {
      "cell_type": "code",
      "source": [
        "model.fit(x_train , y_train , epochs= 8)\n",
        "model.evaluate(x_test , y_test)"
      ],
      "metadata": {
        "colab": {
          "base_uri": "https://localhost:8080/"
        },
        "id": "2Bgun7QRdgj3",
        "outputId": "0a90915c-508d-4616-b9b7-4128eccd3992"
      },
      "execution_count": 24,
      "outputs": [
        {
          "output_type": "stream",
          "name": "stdout",
          "text": [
            "Epoch 1/8\n",
            "1875/1875 [==============================] - 12s 6ms/step - loss: 0.5253 - accuracy: 0.8141\n",
            "Epoch 2/8\n",
            "1875/1875 [==============================] - 10s 5ms/step - loss: 0.4011 - accuracy: 0.8538\n",
            "Epoch 3/8\n",
            "1875/1875 [==============================] - 10s 5ms/step - loss: 0.3681 - accuracy: 0.8664\n",
            "Epoch 4/8\n",
            "1875/1875 [==============================] - 8s 4ms/step - loss: 0.3481 - accuracy: 0.8723\n",
            "Epoch 5/8\n",
            "1875/1875 [==============================] - 12s 6ms/step - loss: 0.3303 - accuracy: 0.8783\n",
            "Epoch 6/8\n",
            "1875/1875 [==============================] - 8s 4ms/step - loss: 0.3201 - accuracy: 0.8824\n",
            "Epoch 7/8\n",
            "1875/1875 [==============================] - 9s 5ms/step - loss: 0.3066 - accuracy: 0.8857\n",
            "Epoch 8/8\n",
            "1875/1875 [==============================] - 10s 5ms/step - loss: 0.2979 - accuracy: 0.8889\n",
            "313/313 [==============================] - 1s 2ms/step - loss: 0.3620 - accuracy: 0.8746\n"
          ]
        },
        {
          "output_type": "execute_result",
          "data": {
            "text/plain": [
              "[0.36200353503227234, 0.8745999932289124]"
            ]
          },
          "metadata": {},
          "execution_count": 24
        }
      ]
    },
    {
      "cell_type": "markdown",
      "source": [
        "### accuracy decreased 10 percent compared with mnist dataset."
      ],
      "metadata": {
        "id": "4vVQMK4-fk-4"
      }
    }
  ]
}