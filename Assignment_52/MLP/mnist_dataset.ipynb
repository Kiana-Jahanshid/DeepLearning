{
  "nbformat": 4,
  "nbformat_minor": 0,
  "metadata": {
    "colab": {
      "provenance": []
    },
    "kernelspec": {
      "name": "python3",
      "display_name": "Python 3"
    },
    "language_info": {
      "name": "python"
    }
  },
  "cells": [
    {
      "cell_type": "code",
      "execution_count": 12,
      "metadata": {
        "id": "bKVcs_8DXV0r"
      },
      "outputs": [],
      "source": [
        "import tensorflow as tf\n",
        "import matplotlib.pyplot as plt"
      ]
    },
    {
      "cell_type": "code",
      "source": [
        "mnist = tf.keras.datasets.mnist\n",
        "(x_train , y_train) , (x_test , y_test) = mnist.load_data()\n",
        "x_train , x_test = x_train / 255.0 , x_test / 255.0"
      ],
      "metadata": {
        "id": "H2EsblkvXZwd"
      },
      "execution_count": 13,
      "outputs": []
    },
    {
      "cell_type": "code",
      "source": [
        "plt.imshow(x_train[5] , cmap=\"gray\")"
      ],
      "metadata": {
        "colab": {
          "base_uri": "https://localhost:8080/",
          "height": 447
        },
        "id": "vYEbhSQEYCd4",
        "outputId": "9e52ee1c-f0aa-4139-e5f4-fb0b86f2569b"
      },
      "execution_count": 14,
      "outputs": [
        {
          "output_type": "execute_result",
          "data": {
            "text/plain": [
              "<matplotlib.image.AxesImage at 0x7a20c62c8340>"
            ]
          },
          "metadata": {},
          "execution_count": 14
        },
        {
          "output_type": "display_data",
          "data": {
            "text/plain": [
              "<Figure size 640x480 with 1 Axes>"
            ],
            "image/png": "[encoded data removed]"
          },
          "metadata": {}
        }
      ]
    },
    {
      "cell_type": "code",
      "source": [
        "model = tf.keras.models.Sequential([\n",
        "    tf.keras.layers.Flatten(input_shape = (28 ,28)),\n",
        "    tf.keras.layers.Dense(128 , activation= \"relu\" ),\n",
        "    tf.keras.layers.Dropout(0.2),\n",
        "    tf.keras.layers.Dense(10  ,activation= \"softmax\")\n",
        "])"
      ],
      "metadata": {
        "id": "HyeU5T4_Yc9b"
      },
      "execution_count": 15,
      "outputs": []
    },
    {
      "cell_type": "code",
      "source": [
        "model.compile(optimizer= \"adam\" ,\n",
        "              loss= \"sparse_categorical_crossentropy\" ,\n",
        "              metrics= ['accuracy'])"
      ],
      "metadata": {
        "id": "Dy8U6GO0Zuob"
      },
      "execution_count": 16,
      "outputs": []
    },
    {
      "cell_type": "code",
      "source": [
        "model.fit(x_train , y_train , epochs= 8)\n",
        "model.evaluate(x_test , y_test)"
      ],
      "metadata": {
        "colab": {
          "base_uri": "https://localhost:8080/"
        },
        "id": "2Bgun7QRdgj3",
        "outputId": "148c3f90-75f6-4d83-cb2f-80aa5b1982d3"
      },
      "execution_count": 17,
      "outputs": [
        {
          "output_type": "stream",
          "name": "stdout",
          "text": [
            "Epoch 1/8\n",
            "1875/1875 [==============================] - 10s 5ms/step - loss: 0.2921 - accuracy: 0.9161\n",
            "Epoch 2/8\n",
            "1875/1875 [==============================] - 8s 4ms/step - loss: 0.1393 - accuracy: 0.9586\n",
            "Epoch 3/8\n",
            "1875/1875 [==============================] - 9s 5ms/step - loss: 0.1048 - accuracy: 0.9685\n",
            "Epoch 4/8\n",
            "1875/1875 [==============================] - 9s 5ms/step - loss: 0.0883 - accuracy: 0.9735\n",
            "Epoch 5/8\n",
            "1875/1875 [==============================] - 8s 4ms/step - loss: 0.0726 - accuracy: 0.9768\n",
            "Epoch 6/8\n",
            "1875/1875 [==============================] - 10s 5ms/step - loss: 0.0650 - accuracy: 0.9793\n",
            "Epoch 7/8\n",
            "1875/1875 [==============================] - 9s 5ms/step - loss: 0.0589 - accuracy: 0.9813\n",
            "Epoch 8/8\n",
            "1875/1875 [==============================] - 8s 4ms/step - loss: 0.0508 - accuracy: 0.9837\n",
            "313/313 [==============================] - 1s 2ms/step - loss: 0.0701 - accuracy: 0.9788\n"
          ]
        },
        {
          "output_type": "execute_result",
          "data": {
            "text/plain": [
              "[0.07007409632205963, 0.9787999987602234]"
            ]
          },
          "metadata": {},
          "execution_count": 17
        }
      ]
    }
  ]
}