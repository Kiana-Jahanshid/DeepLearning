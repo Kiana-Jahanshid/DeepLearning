{
  "nbformat": 4,
  "nbformat_minor": 0,
  "metadata": {
    "colab": {
      "provenance": [],
      "gpuType": "T4"
    },
    "kernelspec": {
      "name": "python3",
      "display_name": "Python 3"
    },
    "language_info": {
      "name": "python"
    },
    "accelerator": "GPU"
  },
  "cells": [
    {
      "cell_type": "code",
      "execution_count": 63,
      "metadata": {
        "id": "J4VUB-vq1ebG"
      },
      "outputs": [],
      "source": [
        "import tensorflow as tf\n",
        "import matplotlib.pyplot as plt"
      ]
    },
    {
      "cell_type": "code",
      "source": [
        "fmnist = tf.keras.datasets.fashion_mnist\n",
        "(x_train , y_train ),( x_test , y_test )= fmnist.load_data()\n",
        "x_test , x_train = x_test / 255.0 , x_train / 255.0"
      ],
      "metadata": {
        "id": "NiM7LsrZSPDN"
      },
      "execution_count": 64,
      "outputs": []
    },
    {
      "cell_type": "code",
      "source": [
        "from keras import backend as k\n",
        "img_rows, img_cols=28, 28\n",
        "\n",
        "if k.image_data_format() == 'channels_first':\n",
        "   x_train = x_train.reshape(x_train.shape[0], 1, img_rows, img_cols)\n",
        "   x_test = x_test.reshape(x_test.shape[0], 1, img_rows, img_cols)\n",
        "   inpx = (1, img_rows, img_cols)\n",
        "\n",
        "else:\n",
        "   x_train = x_train.reshape(x_train.shape[0], img_rows, img_cols, 1)\n",
        "   x_test = x_test.reshape(x_test.shape[0], img_rows, img_cols, 1)\n",
        "   inpx = (img_rows, img_cols, 1)\n",
        "\n",
        "x_train = x_train.astype('float32')\n",
        "x_test = x_test.astype('float32')\n",
        "x_train /= 255\n",
        "x_test /= 255"
      ],
      "metadata": {
        "id": "HzxqNCXtM-gV"
      },
      "execution_count": 65,
      "outputs": []
    },
    {
      "cell_type": "code",
      "source": [
        "x_train[0].shape"
      ],
      "metadata": {
        "colab": {
          "base_uri": "https://localhost:8080/"
        },
        "id": "jPQtazSAeodW",
        "outputId": "28b33e16-ab21-4561-a296-fa3260e786be"
      },
      "execution_count": 66,
      "outputs": [
        {
          "output_type": "execute_result",
          "data": {
            "text/plain": [
              "(28, 28, 1)"
            ]
          },
          "metadata": {},
          "execution_count": 66
        }
      ]
    },
    {
      "cell_type": "code",
      "source": [
        "model = tf.keras.models.Sequential([\n",
        "\n",
        "    # flatten layer has been deleted\n",
        "    # weigth = mask  / kenel / filter  --- >  LAYE HAYE CONVOLUTION HASTAN INJA\n",
        "    # shabake rooye ina train va update mishe\n",
        "    # mask ha dar tasvire rangi barabarand ba 3*3*3\n",
        "\n",
        "    # deep learning\n",
        "    tf.keras.layers.Conv2D(filters= 128 , kernel_size = (3,3) , activation=\"relu\" ,input_shape=(28,28 ,1) ) ,\n",
        "    tf.keras.layers.Conv2D(filters= 128 , kernel_size = (3,3) , activation=\"relu\") ,\n",
        "    tf.keras.layers.MaxPooling2D() ,\n",
        "    tf.keras.layers.Dropout(0.4) ,\n",
        "\n",
        "    tf.keras.layers.Conv2D(filters= 256 , kernel_size = (3,3) , activation=\"relu\") ,\n",
        "    tf.keras.layers.Conv2D(filters= 256 , kernel_size = (3,3) , activation=\"relu\") ,\n",
        "    tf.keras.layers.MaxPooling2D() ,\n",
        "    tf.keras.layers.Dropout(0.4) ,\n",
        "\n",
        "    # tf.keras.layers.Conv2D(filters= 512 , kernel_size = (3,3) , activation=\"relu\") ,\n",
        "    # tf.keras.layers.Conv2D(filters= 512 , kernel_size = (3,3) , activation=\"relu\") ,\n",
        "    # tf.keras.layers.MaxPooling2D() ,\n",
        "\n",
        "    # data haye ma arraye 2 bodi hastan\n",
        "    # ama MLP 1 bodi mikhad --- > pas majboorim flatten bezanim\n",
        "    tf.keras.layers.Flatten() ,\n",
        "\n",
        "    # machine learning / fully connected\n",
        "    tf.keras.layers.Dense(250 , activation=\"sigmoid\") ,\n",
        "    #tf.keras.layers.Dense(128 , activation=\"sigmoid\") ,\n",
        "    # tf.keras.layers.Dense(512 , activation=\"relu\") ,\n",
        "    tf.keras.layers.Dropout(0.6) ,\n",
        "    tf.keras.layers.Dense(10 , activation=\"softmax\")\n",
        "])\n",
        "\n"
      ],
      "metadata": {
        "id": "-Li07PROSih1"
      },
      "execution_count": 67,
      "outputs": []
    },
    {
      "cell_type": "code",
      "source": [
        "model.compile(optimizer= \"adamax\" , loss= tf.keras.losses.sparse_categorical_crossentropy , metrics=[\"accuracy\"])\n",
        "\n",
        "out = model.fit(x_train , y_train , epochs= 35)\n",
        "model.evaluate(x_test , y_test)"
      ],
      "metadata": {
        "colab": {
          "base_uri": "https://localhost:8080/"
        },
        "id": "dzTvWfZNTSal",
        "outputId": "dd450f36-ba71-4b3f-a6fb-693f35ac51fb"
      },
      "execution_count": 68,
      "outputs": [
        {
          "output_type": "stream",
          "name": "stdout",
          "text": [
            "Epoch 1/35\n",
            "1875/1875 [==============================] - 19s 9ms/step - loss: 2.3087 - accuracy: 0.1008\n",
            "Epoch 2/35\n",
            "1875/1875 [==============================] - 17s 9ms/step - loss: 0.9602 - accuracy: 0.6477\n",
            "Epoch 3/35\n",
            "1875/1875 [==============================] - 17s 9ms/step - loss: 0.6476 - accuracy: 0.7586\n",
            "Epoch 4/35\n",
            "1875/1875 [==============================] - 17s 9ms/step - loss: 0.5633 - accuracy: 0.7909\n",
            "Epoch 5/35\n",
            "1875/1875 [==============================] - 17s 9ms/step - loss: 0.5135 - accuracy: 0.8094\n",
            "Epoch 6/35\n",
            "1875/1875 [==============================] - 17s 9ms/step - loss: 0.4783 - accuracy: 0.8237\n",
            "Epoch 7/35\n",
            "1875/1875 [==============================] - 17s 9ms/step - loss: 0.4551 - accuracy: 0.8328\n",
            "Epoch 8/35\n",
            "1875/1875 [==============================] - 17s 9ms/step - loss: 0.4338 - accuracy: 0.8393\n",
            "Epoch 9/35\n",
            "1875/1875 [==============================] - 17s 9ms/step - loss: 0.4161 - accuracy: 0.8479\n",
            "Epoch 10/35\n",
            "1875/1875 [==============================] - 17s 9ms/step - loss: 0.4039 - accuracy: 0.8516\n",
            "Epoch 11/35\n",
            "1875/1875 [==============================] - 17s 9ms/step - loss: 0.3924 - accuracy: 0.8557\n",
            "Epoch 12/35\n",
            "1875/1875 [==============================] - 17s 9ms/step - loss: 0.3827 - accuracy: 0.8583\n",
            "Epoch 13/35\n",
            "1875/1875 [==============================] - 17s 9ms/step - loss: 0.3734 - accuracy: 0.8636\n",
            "Epoch 14/35\n",
            "1875/1875 [==============================] - 17s 9ms/step - loss: 0.3626 - accuracy: 0.8666\n",
            "Epoch 15/35\n",
            "1875/1875 [==============================] - 17s 9ms/step - loss: 0.3516 - accuracy: 0.8705\n",
            "Epoch 16/35\n",
            "1875/1875 [==============================] - 17s 9ms/step - loss: 0.3469 - accuracy: 0.8733\n",
            "Epoch 17/35\n",
            "1875/1875 [==============================] - 17s 9ms/step - loss: 0.3381 - accuracy: 0.8748\n",
            "Epoch 18/35\n",
            "1875/1875 [==============================] - 17s 9ms/step - loss: 0.3318 - accuracy: 0.8771\n",
            "Epoch 19/35\n",
            "1875/1875 [==============================] - 17s 9ms/step - loss: 0.3266 - accuracy: 0.8803\n",
            "Epoch 20/35\n",
            "1875/1875 [==============================] - 17s 9ms/step - loss: 0.3175 - accuracy: 0.8829\n",
            "Epoch 21/35\n",
            "1875/1875 [==============================] - 17s 9ms/step - loss: 0.3108 - accuracy: 0.8873\n",
            "Epoch 22/35\n",
            "1875/1875 [==============================] - 17s 9ms/step - loss: 0.3074 - accuracy: 0.8885\n",
            "Epoch 23/35\n",
            "1875/1875 [==============================] - 17s 9ms/step - loss: 0.3008 - accuracy: 0.8901\n",
            "Epoch 24/35\n",
            "1875/1875 [==============================] - 17s 9ms/step - loss: 0.2954 - accuracy: 0.8929\n",
            "Epoch 25/35\n",
            "1875/1875 [==============================] - 17s 9ms/step - loss: 0.2929 - accuracy: 0.8924\n",
            "Epoch 26/35\n",
            "1875/1875 [==============================] - 17s 9ms/step - loss: 0.2874 - accuracy: 0.8942\n",
            "Epoch 27/35\n",
            "1875/1875 [==============================] - 17s 9ms/step - loss: 0.2846 - accuracy: 0.8960\n",
            "Epoch 28/35\n",
            "1875/1875 [==============================] - 17s 9ms/step - loss: 0.2771 - accuracy: 0.8986\n",
            "Epoch 29/35\n",
            "1875/1875 [==============================] - 17s 9ms/step - loss: 0.2758 - accuracy: 0.9003\n",
            "Epoch 30/35\n",
            "1875/1875 [==============================] - 17s 9ms/step - loss: 0.2705 - accuracy: 0.9010\n",
            "Epoch 31/35\n",
            "1875/1875 [==============================] - 17s 9ms/step - loss: 0.2674 - accuracy: 0.9018\n",
            "Epoch 32/35\n",
            "1875/1875 [==============================] - 17s 9ms/step - loss: 0.2632 - accuracy: 0.9042\n",
            "Epoch 33/35\n",
            "1875/1875 [==============================] - 17s 9ms/step - loss: 0.2589 - accuracy: 0.9056\n",
            "Epoch 34/35\n",
            "1875/1875 [==============================] - 17s 9ms/step - loss: 0.2581 - accuracy: 0.9061\n",
            "Epoch 35/35\n",
            "1875/1875 [==============================] - 17s 9ms/step - loss: 0.2540 - accuracy: 0.9082\n",
            "313/313 [==============================] - 1s 4ms/step - loss: 0.2577 - accuracy: 0.9060\n"
          ]
        },
        {
          "output_type": "execute_result",
          "data": {
            "text/plain": [
              "[0.25767308473587036, 0.906000018119812]"
            ]
          },
          "metadata": {},
          "execution_count": 68
        }
      ]
    },
    {
      "cell_type": "code",
      "source": [
        "model.summary()"
      ],
      "metadata": {
        "id": "yWlUVGEwRdMJ",
        "colab": {
          "base_uri": "https://localhost:8080/"
        },
        "outputId": "40ed0a37-095a-4572-b5d1-b4f9b65db4e2"
      },
      "execution_count": 69,
      "outputs": [
        {
          "output_type": "stream",
          "name": "stdout",
          "text": [
            "Model: \"sequential_9\"\n",
            "_________________________________________________________________\n",
            " Layer (type)                Output Shape              Param #   \n",
            "=================================================================\n",
            " conv2d_36 (Conv2D)          (None, 26, 26, 128)       1280      \n",
            "                                                                 \n",
            " conv2d_37 (Conv2D)          (None, 24, 24, 128)       147584    \n",
            "                                                                 \n",
            " max_pooling2d_18 (MaxPooli  (None, 12, 12, 128)       0         \n",
            " ng2D)                                                           \n",
            "                                                                 \n",
            " dropout_27 (Dropout)        (None, 12, 12, 128)       0         \n",
            "                                                                 \n",
            " conv2d_38 (Conv2D)          (None, 10, 10, 256)       295168    \n",
            "                                                                 \n",
            " conv2d_39 (Conv2D)          (None, 8, 8, 256)         590080    \n",
            "                                                                 \n",
            " max_pooling2d_19 (MaxPooli  (None, 4, 4, 256)         0         \n",
            " ng2D)                                                           \n",
            "                                                                 \n",
            " dropout_28 (Dropout)        (None, 4, 4, 256)         0         \n",
            "                                                                 \n",
            " flatten_9 (Flatten)         (None, 4096)              0         \n",
            "                                                                 \n",
            " dense_18 (Dense)            (None, 250)               1024250   \n",
            "                                                                 \n",
            " dropout_29 (Dropout)        (None, 250)               0         \n",
            "                                                                 \n",
            " dense_19 (Dense)            (None, 10)                2510      \n",
            "                                                                 \n",
            "=================================================================\n",
            "Total params: 2060872 (7.86 MB)\n",
            "Trainable params: 2060872 (7.86 MB)\n",
            "Non-trainable params: 0 (0.00 Byte)\n",
            "_________________________________________________________________\n"
          ]
        }
      ]
    },
    {
      "cell_type": "code",
      "source": [
        "plt.plot(out.history[\"loss\"] )\n",
        "plt.plot( out.history[\"accuracy\"])\n",
        "plt.xlabel(\"epoches\")\n",
        "plt.ylabel(\"loss\")\n",
        "plt.title(\"train loss & accuracy\")\n",
        "plt.legend([\"loss\" , \"accuracy\"])\n",
        "plt.show()"
      ],
      "metadata": {
        "colab": {
          "base_uri": "https://localhost:8080/",
          "height": 472
        },
        "id": "ZToowQE64FeR",
        "outputId": "d249582d-1392-4bd1-f45a-2877f1e9fa74"
      },
      "execution_count": 70,
      "outputs": [
        {
          "output_type": "display_data",
          "data": {
            "text/plain": [
              "<Figure size 640x480 with 1 Axes>"
            ],
            "image/png": "[encoded data removed]"
          },
          "metadata": {}
        }
      ]
    }
  ]
}