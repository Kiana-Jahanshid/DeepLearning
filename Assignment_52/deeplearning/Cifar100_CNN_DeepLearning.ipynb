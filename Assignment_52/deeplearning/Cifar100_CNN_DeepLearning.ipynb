{
  "nbformat": 4,
  "nbformat_minor": 0,
  "metadata": {
    "colab": {
      "provenance": [],
      "gpuType": "T4"
    },
    "kernelspec": {
      "name": "python3",
      "display_name": "Python 3"
    },
    "language_info": {
      "name": "python"
    },
    "accelerator": "GPU"
  },
  "cells": [
    {
      "cell_type": "code",
      "execution_count": 13,
      "metadata": {
        "id": "J4VUB-vq1ebG"
      },
      "outputs": [],
      "source": [
        "import tensorflow as tf\n",
        "import matplotlib.pyplot as plt"
      ]
    },
    {
      "cell_type": "code",
      "source": [
        "cif = tf.keras.datasets.cifar100\n",
        "(x_train , y_train ),( x_test , y_test )= cif.load_data()\n",
        "x_test , x_train = x_test / 255.0 , x_train / 255.0"
      ],
      "metadata": {
        "id": "NiM7LsrZSPDN"
      },
      "execution_count": 14,
      "outputs": []
    },
    {
      "cell_type": "code",
      "source": [
        "x_train[0].shape"
      ],
      "metadata": {
        "colab": {
          "base_uri": "https://localhost:8080/"
        },
        "id": "jPQtazSAeodW",
        "outputId": "0c557b88-7d20-4a78-cab5-e708e5f17d10"
      },
      "execution_count": 15,
      "outputs": [
        {
          "output_type": "execute_result",
          "data": {
            "text/plain": [
              "(32, 32, 3)"
            ]
          },
          "metadata": {},
          "execution_count": 15
        }
      ]
    },
    {
      "cell_type": "code",
      "source": [
        "model = tf.keras.models.Sequential([\n",
        "\n",
        "    # flatten layer has been deleted\n",
        "    # weigth = mask  / kenel / filter  --- >  LAYE HAYE CONVOLUTION HASTAN INJA\n",
        "    # shabake rooye ina train va update mishe\n",
        "    # mask ha dar tasvire rangi barabarand ba 3*3*3\n",
        "\n",
        "    # deep learning\n",
        "    tf.keras.layers.Conv2D(filters= 128 , kernel_size = (3,3) , activation=\"relu\" ,input_shape=(32,32 , 3) ) ,\n",
        "    tf.keras.layers.Conv2D(filters= 128 , kernel_size = (3,3) , activation=\"relu\") ,\n",
        "    tf.keras.layers.MaxPooling2D() ,\n",
        "    tf.keras.layers.Dropout(0.4) ,\n",
        "\n",
        "    tf.keras.layers.Conv2D(filters= 256 , kernel_size = (3,3) , activation=\"relu\") ,\n",
        "    tf.keras.layers.Conv2D(filters= 256 , kernel_size = (3,3) , activation=\"relu\") ,\n",
        "    tf.keras.layers.MaxPooling2D() ,\n",
        "    tf.keras.layers.Dropout(0.4) ,\n",
        "\n",
        "    # tf.keras.layers.Conv2D(filters= 512 , kernel_size = (3,3) , activation=\"relu\") ,\n",
        "    # tf.keras.layers.Conv2D(filters= 512 , kernel_size = (3,3) , activation=\"relu\") ,\n",
        "    # tf.keras.layers.MaxPooling2D() ,\n",
        "\n",
        "    # data haye ma arraye 2 bodi hastan\n",
        "    # ama MLP 1 bodi mikhad --- > pas majboorim flatten bezanim\n",
        "    tf.keras.layers.Flatten() ,\n",
        "\n",
        "    # machine learning / fully connected\n",
        "    tf.keras.layers.Dense(250 , activation=\"sigmoid\") ,\n",
        "    #tf.keras.layers.Dense(128 , activation=\"sigmoid\") ,\n",
        "    # tf.keras.layers.Dense(512 , activation=\"relu\") ,\n",
        "    tf.keras.layers.Dropout(0.6) ,\n",
        "    tf.keras.layers.Dense(100 , activation=\"softmax\")\n",
        "])\n",
        "\n"
      ],
      "metadata": {
        "id": "-Li07PROSih1"
      },
      "execution_count": 16,
      "outputs": []
    },
    {
      "cell_type": "code",
      "source": [
        "model.compile(optimizer= \"adamax\" , loss= tf.keras.losses.sparse_categorical_crossentropy , metrics=[\"accuracy\"])\n",
        "\n",
        "out = model.fit(x_train , y_train , epochs= 50)\n",
        "model.evaluate(x_test , y_test)"
      ],
      "metadata": {
        "colab": {
          "base_uri": "https://localhost:8080/"
        },
        "id": "dzTvWfZNTSal",
        "outputId": "78cc65a9-af7e-4689-b0de-1fa406ba5f08"
      },
      "execution_count": 17,
      "outputs": [
        {
          "output_type": "stream",
          "name": "stdout",
          "text": [
            "Epoch 1/50\n",
            "1563/1563 [==============================] - 22s 12ms/step - loss: 4.5142 - accuracy: 0.0253\n",
            "Epoch 2/50\n",
            "1563/1563 [==============================] - 19s 12ms/step - loss: 4.1800 - accuracy: 0.0632\n",
            "Epoch 3/50\n",
            "1563/1563 [==============================] - 19s 12ms/step - loss: 3.8692 - accuracy: 0.1089\n",
            "Epoch 4/50\n",
            "1563/1563 [==============================] - 19s 12ms/step - loss: 3.6436 - accuracy: 0.1467\n",
            "Epoch 5/50\n",
            "1563/1563 [==============================] - 19s 12ms/step - loss: 3.4463 - accuracy: 0.1804\n",
            "Epoch 6/50\n",
            "1563/1563 [==============================] - 19s 12ms/step - loss: 3.2778 - accuracy: 0.2133\n",
            "Epoch 7/50\n",
            "1563/1563 [==============================] - 19s 12ms/step - loss: 3.1369 - accuracy: 0.2402\n",
            "Epoch 8/50\n",
            "1563/1563 [==============================] - 19s 12ms/step - loss: 3.0133 - accuracy: 0.2638\n",
            "Epoch 9/50\n",
            "1563/1563 [==============================] - 19s 12ms/step - loss: 2.8986 - accuracy: 0.2830\n",
            "Epoch 10/50\n",
            "1563/1563 [==============================] - 19s 12ms/step - loss: 2.7975 - accuracy: 0.3046\n",
            "Epoch 11/50\n",
            "1563/1563 [==============================] - 19s 12ms/step - loss: 2.6998 - accuracy: 0.3237\n",
            "Epoch 12/50\n",
            "1563/1563 [==============================] - 19s 12ms/step - loss: 2.6068 - accuracy: 0.3406\n",
            "Epoch 13/50\n",
            "1563/1563 [==============================] - 19s 12ms/step - loss: 2.5334 - accuracy: 0.3546\n",
            "Epoch 14/50\n",
            "1563/1563 [==============================] - 19s 12ms/step - loss: 2.4607 - accuracy: 0.3697\n",
            "Epoch 15/50\n",
            "1563/1563 [==============================] - 19s 12ms/step - loss: 2.3924 - accuracy: 0.3827\n",
            "Epoch 16/50\n",
            "1563/1563 [==============================] - 19s 12ms/step - loss: 2.3320 - accuracy: 0.3983\n",
            "Epoch 17/50\n",
            "1563/1563 [==============================] - 20s 12ms/step - loss: 2.2809 - accuracy: 0.4108\n",
            "Epoch 18/50\n",
            "1563/1563 [==============================] - 20s 13ms/step - loss: 2.2208 - accuracy: 0.4198\n",
            "Epoch 19/50\n",
            "1563/1563 [==============================] - 19s 12ms/step - loss: 2.1754 - accuracy: 0.4299\n",
            "Epoch 20/50\n",
            "1563/1563 [==============================] - 19s 12ms/step - loss: 2.1318 - accuracy: 0.4390\n",
            "Epoch 21/50\n",
            "1563/1563 [==============================] - 19s 12ms/step - loss: 2.0877 - accuracy: 0.4511\n",
            "Epoch 22/50\n",
            "1563/1563 [==============================] - 19s 12ms/step - loss: 2.0426 - accuracy: 0.4602\n",
            "Epoch 23/50\n",
            "1563/1563 [==============================] - 19s 12ms/step - loss: 2.0031 - accuracy: 0.4702\n",
            "Epoch 24/50\n",
            "1563/1563 [==============================] - 19s 12ms/step - loss: 1.9611 - accuracy: 0.4770\n",
            "Epoch 25/50\n",
            "1563/1563 [==============================] - 19s 12ms/step - loss: 1.9235 - accuracy: 0.4834\n",
            "Epoch 26/50\n",
            "1563/1563 [==============================] - 19s 12ms/step - loss: 1.8918 - accuracy: 0.4897\n",
            "Epoch 27/50\n",
            "1563/1563 [==============================] - 19s 12ms/step - loss: 1.8500 - accuracy: 0.5004\n",
            "Epoch 28/50\n",
            "1563/1563 [==============================] - 19s 12ms/step - loss: 1.8219 - accuracy: 0.5080\n",
            "Epoch 29/50\n",
            "1563/1563 [==============================] - 19s 12ms/step - loss: 1.7874 - accuracy: 0.5159\n",
            "Epoch 30/50\n",
            "1563/1563 [==============================] - 19s 12ms/step - loss: 1.7592 - accuracy: 0.5222\n",
            "Epoch 31/50\n",
            "1563/1563 [==============================] - 19s 12ms/step - loss: 1.7255 - accuracy: 0.5299\n",
            "Epoch 32/50\n",
            "1563/1563 [==============================] - 19s 12ms/step - loss: 1.7059 - accuracy: 0.5322\n",
            "Epoch 33/50\n",
            "1563/1563 [==============================] - 19s 12ms/step - loss: 1.6713 - accuracy: 0.5396\n",
            "Epoch 34/50\n",
            "1563/1563 [==============================] - 19s 12ms/step - loss: 1.6566 - accuracy: 0.5464\n",
            "Epoch 35/50\n",
            "1563/1563 [==============================] - 19s 12ms/step - loss: 1.6236 - accuracy: 0.5495\n",
            "Epoch 36/50\n",
            "1563/1563 [==============================] - 19s 12ms/step - loss: 1.5933 - accuracy: 0.5606\n",
            "Epoch 37/50\n",
            "1563/1563 [==============================] - 19s 12ms/step - loss: 1.5806 - accuracy: 0.5616\n",
            "Epoch 38/50\n",
            "1563/1563 [==============================] - 19s 12ms/step - loss: 1.5526 - accuracy: 0.5685\n",
            "Epoch 39/50\n",
            "1563/1563 [==============================] - 19s 12ms/step - loss: 1.5267 - accuracy: 0.5747\n",
            "Epoch 40/50\n",
            "1563/1563 [==============================] - 19s 12ms/step - loss: 1.5024 - accuracy: 0.5797\n",
            "Epoch 41/50\n",
            "1563/1563 [==============================] - 19s 12ms/step - loss: 1.4839 - accuracy: 0.5871\n",
            "Epoch 42/50\n",
            "1563/1563 [==============================] - 19s 12ms/step - loss: 1.4661 - accuracy: 0.5886\n",
            "Epoch 43/50\n",
            "1563/1563 [==============================] - 19s 12ms/step - loss: 1.4460 - accuracy: 0.5909\n",
            "Epoch 44/50\n",
            "1563/1563 [==============================] - 19s 12ms/step - loss: 1.4258 - accuracy: 0.5999\n",
            "Epoch 45/50\n",
            "1563/1563 [==============================] - 20s 13ms/step - loss: 1.3989 - accuracy: 0.6045\n",
            "Epoch 46/50\n",
            "1563/1563 [==============================] - 19s 12ms/step - loss: 1.3859 - accuracy: 0.6080\n",
            "Epoch 47/50\n",
            "1563/1563 [==============================] - 19s 12ms/step - loss: 1.3769 - accuracy: 0.6090\n",
            "Epoch 48/50\n",
            "1563/1563 [==============================] - 19s 12ms/step - loss: 1.3488 - accuracy: 0.6150\n",
            "Epoch 49/50\n",
            "1563/1563 [==============================] - 19s 12ms/step - loss: 1.3347 - accuracy: 0.6185\n",
            "Epoch 50/50\n",
            "1563/1563 [==============================] - 19s 12ms/step - loss: 1.3223 - accuracy: 0.6201\n",
            "313/313 [==============================] - 2s 5ms/step - loss: 1.6652 - accuracy: 0.5507\n"
          ]
        },
        {
          "output_type": "execute_result",
          "data": {
            "text/plain": [
              "[1.665230631828308, 0.5507000088691711]"
            ]
          },
          "metadata": {},
          "execution_count": 17
        }
      ]
    },
    {
      "cell_type": "code",
      "source": [
        "model.summary()"
      ],
      "metadata": {
        "id": "yWlUVGEwRdMJ",
        "colab": {
          "base_uri": "https://localhost:8080/"
        },
        "outputId": "60315cfc-6f65-4ff5-c5d3-b9f857ccf72d"
      },
      "execution_count": 18,
      "outputs": [
        {
          "output_type": "stream",
          "name": "stdout",
          "text": [
            "Model: \"sequential_2\"\n",
            "_________________________________________________________________\n",
            " Layer (type)                Output Shape              Param #   \n",
            "=================================================================\n",
            " conv2d_8 (Conv2D)           (None, 30, 30, 128)       3584      \n",
            "                                                                 \n",
            " conv2d_9 (Conv2D)           (None, 28, 28, 128)       147584    \n",
            "                                                                 \n",
            " max_pooling2d_4 (MaxPoolin  (None, 14, 14, 128)       0         \n",
            " g2D)                                                            \n",
            "                                                                 \n",
            " dropout_6 (Dropout)         (None, 14, 14, 128)       0         \n",
            "                                                                 \n",
            " conv2d_10 (Conv2D)          (None, 12, 12, 256)       295168    \n",
            "                                                                 \n",
            " conv2d_11 (Conv2D)          (None, 10, 10, 256)       590080    \n",
            "                                                                 \n",
            " max_pooling2d_5 (MaxPoolin  (None, 5, 5, 256)         0         \n",
            " g2D)                                                            \n",
            "                                                                 \n",
            " dropout_7 (Dropout)         (None, 5, 5, 256)         0         \n",
            "                                                                 \n",
            " flatten_2 (Flatten)         (None, 6400)              0         \n",
            "                                                                 \n",
            " dense_4 (Dense)             (None, 250)               1600250   \n",
            "                                                                 \n",
            " dropout_8 (Dropout)         (None, 250)               0         \n",
            "                                                                 \n",
            " dense_5 (Dense)             (None, 100)               25100     \n",
            "                                                                 \n",
            "=================================================================\n",
            "Total params: 2661766 (10.15 MB)\n",
            "Trainable params: 2661766 (10.15 MB)\n",
            "Non-trainable params: 0 (0.00 Byte)\n",
            "_________________________________________________________________\n"
          ]
        }
      ]
    },
    {
      "cell_type": "code",
      "source": [
        "plt.plot(out.history[\"loss\"] )\n",
        "plt.plot( out.history[\"accuracy\"])\n",
        "plt.xlabel(\"epoches\")\n",
        "plt.ylabel(\"loss\")\n",
        "plt.title(\"train loss & accuracy\")\n",
        "plt.legend([\"loss\" , \"accuracy\"])\n",
        "plt.show()"
      ],
      "metadata": {
        "colab": {
          "base_uri": "https://localhost:8080/",
          "height": 472
        },
        "id": "ZToowQE64FeR",
        "outputId": "a6a50fb1-23bf-47cc-d55d-9101d0302b08"
      },
      "execution_count": 19,
      "outputs": [
        {
          "output_type": "display_data",
          "data": {
            "text/plain": [
              "<Figure size 640x480 with 1 Axes>"
            ],
            "image/png": "[encoded data removed]"
          },
          "metadata": {}
        }
      ]
    }
  ]
}