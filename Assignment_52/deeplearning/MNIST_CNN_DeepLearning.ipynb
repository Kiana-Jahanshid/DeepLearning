{
  "cells": [
    {
      "cell_type": "code",
      "execution_count": 33,
      "metadata": {
        "id": "J4VUB-vq1ebG"
      },
      "outputs": [],
      "source": [
        "import tensorflow as tf\n",
        "import matplotlib.pyplot as plt"
      ]
    },
    {
      "cell_type": "code",
      "execution_count": 34,
      "metadata": {
        "id": "NiM7LsrZSPDN"
      },
      "outputs": [],
      "source": [
        "mnist = tf.keras.datasets.mnist\n",
        "(x_train , y_train ),( x_test , y_test )= mnist.load_data()\n",
        "x_test , x_train = x_test / 255.0 , x_train / 255.0"
      ]
    },
    {
      "cell_type": "code",
      "execution_count": 35,
      "metadata": {
        "id": "HzxqNCXtM-gV"
      },
      "outputs": [],
      "source": [
        "x_train = x_train.reshape(x_train.shape[0], 28, 28, 1)\n",
        "x_test = x_test.reshape(x_test.shape[0], 28, 28, 1)\n",
        "inpx = (28, 28, 1)\n",
        "\n",
        "x_train = x_train.astype('float32')\n",
        "x_test = x_test.astype('float32')\n",
        "x_train = x_train /255\n",
        "x_test = x_test / 255"
      ]
    },
    {
      "cell_type": "code",
      "execution_count": 36,
      "metadata": {
        "colab": {
          "base_uri": "https://localhost:8080/"
        },
        "id": "jPQtazSAeodW",
        "outputId": "6ca71eef-476c-447f-f072-4613a99b1e95"
      },
      "outputs": [
        {
          "data": {
            "text/plain": [
              "(28, 28, 1)"
            ]
          },
          "execution_count": 36,
          "metadata": {},
          "output_type": "execute_result"
        }
      ],
      "source": [
        "x_train[0].shape"
      ]
    },
    {
      "cell_type": "code",
      "execution_count": 37,
      "metadata": {
        "id": "-Li07PROSih1"
      },
      "outputs": [],
      "source": [
        "model = tf.keras.models.Sequential([\n",
        "\n",
        "    # flatten layer has been deleted\n",
        "    # weigth = mask  / kenel / filter  --- >  LAYE HAYE CONVOLUTION HASTAN INJA\n",
        "    # shabake rooye ina train va update mishe\n",
        "    # mask ha dar tasvire rangi barabarand ba 3*3*3\n",
        "\n",
        "    # deep learning\n",
        "    tf.keras.layers.Conv2D(filters= 128 , kernel_size = (3,3) , activation=\"relu\" ,input_shape=(28,28 ,1) ) ,\n",
        "    tf.keras.layers.Conv2D(filters= 128 , kernel_size = (3,3) , activation=\"relu\") ,\n",
        "    tf.keras.layers.MaxPooling2D() ,\n",
        "    tf.keras.layers.Dropout(0.4) ,\n",
        "\n",
        "    tf.keras.layers.Conv2D(filters= 256 , kernel_size = (3,3) , activation=\"relu\") ,\n",
        "    tf.keras.layers.Conv2D(filters= 256 , kernel_size = (3,3) , activation=\"relu\") ,\n",
        "    tf.keras.layers.MaxPooling2D() ,\n",
        "    tf.keras.layers.Dropout(0.4) ,\n",
        "\n",
        "    # tf.keras.layers.Conv2D(filters= 512 , kernel_size = (3,3) , activation=\"relu\") ,\n",
        "    # tf.keras.layers.Conv2D(filters= 512 , kernel_size = (3,3) , activation=\"relu\") ,\n",
        "    # tf.keras.layers.MaxPooling2D() ,\n",
        "\n",
        "    # data haye ma arraye 2 bodi hastan\n",
        "    # ama MLP 1 bodi mikhad --- > pas majboorim flatten bezanim\n",
        "    tf.keras.layers.Flatten() ,\n",
        "\n",
        "    # machine learning / fully connected\n",
        "    tf.keras.layers.Dense(250 , activation=\"sigmoid\") ,\n",
        "    #tf.keras.layers.Dense(128 , activation=\"sigmoid\") ,\n",
        "    # tf.keras.layers.Dense(512 , activation=\"relu\") ,\n",
        "    tf.keras.layers.Dropout(0.6) ,\n",
        "    tf.keras.layers.Dense(10 , activation=\"softmax\")\n",
        "])\n",
        "\n"
      ]
    },
    {
      "cell_type": "code",
      "execution_count": 38,
      "metadata": {
        "colab": {
          "base_uri": "https://localhost:8080/"
        },
        "id": "dzTvWfZNTSal",
        "outputId": "475e4fbc-3031-496d-d8f3-4b354425bf62"
      },
      "outputs": [
        {
          "name": "stdout",
          "output_type": "stream",
          "text": [
            "Epoch 1/18\n",
            "1875/1875 [==============================] - 19s 9ms/step - loss: 2.2580 - accuracy: 0.1358\n",
            "Epoch 2/18\n",
            "1875/1875 [==============================] - 17s 9ms/step - loss: 0.4217 - accuracy: 0.8828\n",
            "Epoch 3/18\n",
            "1875/1875 [==============================] - 17s 9ms/step - loss: 0.1649 - accuracy: 0.9517\n",
            "Epoch 4/18\n",
            "1875/1875 [==============================] - 17s 9ms/step - loss: 0.1217 - accuracy: 0.9642\n",
            "Epoch 5/18\n",
            "1875/1875 [==============================] - 17s 9ms/step - loss: 0.0966 - accuracy: 0.9721\n",
            "Epoch 6/18\n",
            "1875/1875 [==============================] - 17s 9ms/step - loss: 0.0862 - accuracy: 0.9746\n",
            "Epoch 7/18\n",
            "1875/1875 [==============================] - 17s 9ms/step - loss: 0.0775 - accuracy: 0.9774\n",
            "Epoch 8/18\n",
            "1875/1875 [==============================] - 17s 9ms/step - loss: 0.0692 - accuracy: 0.9800\n",
            "Epoch 9/18\n",
            "1875/1875 [==============================] - 17s 9ms/step - loss: 0.0622 - accuracy: 0.9818\n",
            "Epoch 10/18\n",
            "1875/1875 [==============================] - 17s 9ms/step - loss: 0.0575 - accuracy: 0.9830\n",
            "Epoch 11/18\n",
            "1875/1875 [==============================] - 17s 9ms/step - loss: 0.0530 - accuracy: 0.9843\n",
            "Epoch 12/18\n",
            "1875/1875 [==============================] - 17s 9ms/step - loss: 0.0484 - accuracy: 0.9853\n",
            "Epoch 13/18\n",
            "1875/1875 [==============================] - 17s 9ms/step - loss: 0.0462 - accuracy: 0.9863\n",
            "Epoch 14/18\n",
            "1875/1875 [==============================] - 17s 9ms/step - loss: 0.0442 - accuracy: 0.9867\n",
            "Epoch 15/18\n",
            "1875/1875 [==============================] - 17s 9ms/step - loss: 0.0411 - accuracy: 0.9876\n",
            "Epoch 16/18\n",
            "1875/1875 [==============================] - 17s 9ms/step - loss: 0.0388 - accuracy: 0.9881\n",
            "Epoch 17/18\n",
            "1875/1875 [==============================] - 17s 9ms/step - loss: 0.0369 - accuracy: 0.9891\n",
            "Epoch 18/18\n",
            "1875/1875 [==============================] - 17s 9ms/step - loss: 0.0352 - accuracy: 0.9894\n",
            "313/313 [==============================] - 2s 4ms/step - loss: 0.0234 - accuracy: 0.9916\n"
          ]
        },
        {
          "data": {
            "text/plain": [
              "[0.023379972204566002, 0.991599977016449]"
            ]
          },
          "execution_count": 38,
          "metadata": {},
          "output_type": "execute_result"
        }
      ],
      "source": [
        "model.compile(optimizer= \"adamax\" , loss= tf.keras.losses.sparse_categorical_crossentropy , metrics=[\"accuracy\"])\n",
        "\n",
        "out = model.fit(x_train , y_train , epochs= 18)\n",
        "model.evaluate(x_test , y_test)"
      ]
    },
    {
      "cell_type": "code",
      "execution_count": 39,
      "metadata": {
        "colab": {
          "base_uri": "https://localhost:8080/"
        },
        "id": "yWlUVGEwRdMJ",
        "outputId": "ee1a0fa5-7b31-444a-a2ec-da47aa7c7d26"
      },
      "outputs": [
        {
          "name": "stdout",
          "output_type": "stream",
          "text": [
            "Model: \"sequential_5\"\n",
            "_________________________________________________________________\n",
            " Layer (type)                Output Shape              Param #   \n",
            "=================================================================\n",
            " conv2d_20 (Conv2D)          (None, 26, 26, 128)       1280      \n",
            "                                                                 \n",
            " conv2d_21 (Conv2D)          (None, 24, 24, 128)       147584    \n",
            "                                                                 \n",
            " max_pooling2d_10 (MaxPooli  (None, 12, 12, 128)       0         \n",
            " ng2D)                                                           \n",
            "                                                                 \n",
            " dropout_15 (Dropout)        (None, 12, 12, 128)       0         \n",
            "                                                                 \n",
            " conv2d_22 (Conv2D)          (None, 10, 10, 256)       295168    \n",
            "                                                                 \n",
            " conv2d_23 (Conv2D)          (None, 8, 8, 256)         590080    \n",
            "                                                                 \n",
            " max_pooling2d_11 (MaxPooli  (None, 4, 4, 256)         0         \n",
            " ng2D)                                                           \n",
            "                                                                 \n",
            " dropout_16 (Dropout)        (None, 4, 4, 256)         0         \n",
            "                                                                 \n",
            " flatten_5 (Flatten)         (None, 4096)              0         \n",
            "                                                                 \n",
            " dense_10 (Dense)            (None, 250)               1024250   \n",
            "                                                                 \n",
            " dropout_17 (Dropout)        (None, 250)               0         \n",
            "                                                                 \n",
            " dense_11 (Dense)            (None, 10)                2510      \n",
            "                                                                 \n",
            "=================================================================\n",
            "Total params: 2060872 (7.86 MB)\n",
            "Trainable params: 2060872 (7.86 MB)\n",
            "Non-trainable params: 0 (0.00 Byte)\n",
            "_________________________________________________________________\n"
          ]
        }
      ],
      "source": [
        "model.summary()"
      ]
    },
    {
      "cell_type": "code",
      "execution_count": 40,
      "metadata": {
        "colab": {
          "base_uri": "https://localhost:8080/",
          "height": 472
        },
        "id": "ZToowQE64FeR",
        "outputId": "fe0202b1-824b-4314-880f-628145331591"
      },
      "outputs": [
        {
          "data": {
            "image/png": "[encoded data removed]",
            "text/plain": [
              "<Figure size 640x480 with 1 Axes>"
            ]
          },
          "metadata": {},
          "output_type": "display_data"
        }
      ],
      "source": [
        "plt.plot(out.history[\"loss\"] )\n",
        "plt.plot( out.history[\"accuracy\"])\n",
        "plt.xlabel(\"epoches\")\n",
        "plt.ylabel(\"loss\")\n",
        "plt.title(\"train loss & accuracy\")\n",
        "plt.legend([\"loss\" , \"accuracy\"])\n",
        "plt.show()"
      ]
    }
  ],
  "metadata": {
    "accelerator": "GPU",
    "colab": {
      "gpuType": "T4",
      "provenance": []
    },
    "kernelspec": {
      "display_name": "Python 3",
      "name": "python3"
    },
    "language_info": {
      "name": "python"
    }
  },
  "nbformat": 4,
  "nbformat_minor": 0
}
