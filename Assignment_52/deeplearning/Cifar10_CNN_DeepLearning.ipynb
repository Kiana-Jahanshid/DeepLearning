{
  "cells": [
    {
      "cell_type": "code",
      "execution_count": 20,
      "metadata": {
        "id": "J4VUB-vq1ebG"
      },
      "outputs": [],
      "source": [
        "import tensorflow as tf\n",
        "import matplotlib.pyplot as plt"
      ]
    },
    {
      "cell_type": "code",
      "execution_count": 21,
      "metadata": {
        "colab": {
          "base_uri": "https://localhost:8080/"
        },
        "id": "NiM7LsrZSPDN",
        "outputId": "d427389a-3156-45c2-b703-b5a28a266e5b"
      },
      "outputs": [
        {
          "name": "stdout",
          "output_type": "stream",
          "text": [
            "Downloading data from https://www.cs.toronto.edu/~kriz/cifar-10-python.tar.gz\n",
            "170498071/170498071 [==============================] - 14s 0us/step\n"
          ]
        }
      ],
      "source": [
        "cif = tf.keras.datasets.cifar10\n",
        "(x_train , y_train ),( x_test , y_test )= cif.load_data()\n",
        "x_test , x_train = x_test / 255.0 , x_train / 255.0"
      ]
    },
    {
      "cell_type": "code",
      "execution_count": 22,
      "metadata": {
        "colab": {
          "base_uri": "https://localhost:8080/"
        },
        "id": "jPQtazSAeodW",
        "outputId": "3e400d62-7b9a-457e-cb7c-476fb5c398c1"
      },
      "outputs": [
        {
          "data": {
            "text/plain": [
              "(32, 32, 3)"
            ]
          },
          "execution_count": 22,
          "metadata": {},
          "output_type": "execute_result"
        }
      ],
      "source": [
        "x_train[0].shape"
      ]
    },
    {
      "cell_type": "code",
      "execution_count": 23,
      "metadata": {
        "id": "-Li07PROSih1"
      },
      "outputs": [],
      "source": [
        "model = tf.keras.models.Sequential([\n",
        "\n",
        "    # deep learning\n",
        "    tf.keras.layers.Conv2D(filters= 128 , kernel_size = (3,3) , activation=\"relu\" ,input_shape=(32,32 , 3) ) ,\n",
        "    tf.keras.layers.Conv2D(filters= 128 , kernel_size = (3,3) , activation=\"relu\") ,\n",
        "    tf.keras.layers.MaxPooling2D() ,\n",
        "    tf.keras.layers.Dropout(0.4) ,\n",
        "\n",
        "    tf.keras.layers.Conv2D(filters= 256 , kernel_size = (3,3) , activation=\"relu\") ,\n",
        "    tf.keras.layers.Conv2D(filters= 256 , kernel_size = (3,3) , activation=\"relu\") ,\n",
        "    tf.keras.layers.MaxPooling2D() ,\n",
        "    tf.keras.layers.Dropout(0.4) ,\n",
        "\n",
        "    tf.keras.layers.Flatten() ,\n",
        "\n",
        "    # machine learning / fully connected\n",
        "    tf.keras.layers.Dense(250 , activation=\"sigmoid\") ,\n",
        "    tf.keras.layers.Dropout(0.6) ,\n",
        "    tf.keras.layers.Dense(10 , activation=\"softmax\")\n",
        "])\n",
        "\n"
      ]
    },
    {
      "cell_type": "code",
      "execution_count": 24,
      "metadata": {
        "colab": {
          "base_uri": "https://localhost:8080/"
        },
        "id": "dzTvWfZNTSal",
        "outputId": "dd083388-4e1e-4c3d-954a-57e863f9c495"
      },
      "outputs": [
        {
          "name": "stdout",
          "output_type": "stream",
          "text": [
            "Epoch 1/50\n",
            "1563/1563 [==============================] - 21s 12ms/step - loss: 1.7831 - accuracy: 0.3427\n",
            "Epoch 2/50\n",
            "1563/1563 [==============================] - 19s 12ms/step - loss: 1.3767 - accuracy: 0.5021\n",
            "Epoch 3/50\n",
            "1563/1563 [==============================] - 19s 12ms/step - loss: 1.1751 - accuracy: 0.5852\n",
            "Epoch 4/50\n",
            "1563/1563 [==============================] - 20s 13ms/step - loss: 1.0280 - accuracy: 0.6417\n",
            "Epoch 5/50\n",
            "1563/1563 [==============================] - 19s 12ms/step - loss: 0.9200 - accuracy: 0.6788\n",
            "Epoch 6/50\n",
            "1563/1563 [==============================] - 19s 12ms/step - loss: 0.8472 - accuracy: 0.7067\n",
            "Epoch 7/50\n",
            "1563/1563 [==============================] - 19s 12ms/step - loss: 0.7843 - accuracy: 0.7286\n",
            "Epoch 8/50\n",
            "1563/1563 [==============================] - 19s 12ms/step - loss: 0.7385 - accuracy: 0.7447\n",
            "Epoch 9/50\n",
            "1563/1563 [==============================] - 19s 12ms/step - loss: 0.6920 - accuracy: 0.7580\n",
            "Epoch 10/50\n",
            "1563/1563 [==============================] - 19s 12ms/step - loss: 0.6568 - accuracy: 0.7737\n",
            "Epoch 11/50\n",
            "1563/1563 [==============================] - 19s 12ms/step - loss: 0.6226 - accuracy: 0.7841\n",
            "Epoch 12/50\n",
            "1563/1563 [==============================] - 19s 12ms/step - loss: 0.5895 - accuracy: 0.7966\n",
            "Epoch 13/50\n",
            "1563/1563 [==============================] - 19s 12ms/step - loss: 0.5633 - accuracy: 0.8055\n",
            "Epoch 14/50\n",
            "1563/1563 [==============================] - 19s 12ms/step - loss: 0.5364 - accuracy: 0.8159\n",
            "Epoch 15/50\n",
            "1563/1563 [==============================] - 19s 12ms/step - loss: 0.5151 - accuracy: 0.8217\n",
            "Epoch 16/50\n",
            "1563/1563 [==============================] - 19s 12ms/step - loss: 0.4878 - accuracy: 0.8307\n",
            "Epoch 17/50\n",
            "1563/1563 [==============================] - 19s 12ms/step - loss: 0.4717 - accuracy: 0.8358\n",
            "Epoch 18/50\n",
            "1563/1563 [==============================] - 19s 12ms/step - loss: 0.4501 - accuracy: 0.8451\n",
            "Epoch 19/50\n",
            "1563/1563 [==============================] - 19s 12ms/step - loss: 0.4299 - accuracy: 0.8519\n",
            "Epoch 20/50\n",
            "1563/1563 [==============================] - 19s 12ms/step - loss: 0.4130 - accuracy: 0.8572\n",
            "Epoch 21/50\n",
            "1563/1563 [==============================] - 19s 12ms/step - loss: 0.3969 - accuracy: 0.8611\n",
            "Epoch 22/50\n",
            "1563/1563 [==============================] - 19s 12ms/step - loss: 0.3805 - accuracy: 0.8682\n",
            "Epoch 23/50\n",
            "1563/1563 [==============================] - 19s 12ms/step - loss: 0.3620 - accuracy: 0.8742\n",
            "Epoch 24/50\n",
            "1563/1563 [==============================] - 19s 12ms/step - loss: 0.3511 - accuracy: 0.8778\n",
            "Epoch 25/50\n",
            "1563/1563 [==============================] - 19s 12ms/step - loss: 0.3367 - accuracy: 0.8833\n",
            "Epoch 26/50\n",
            "1563/1563 [==============================] - 19s 12ms/step - loss: 0.3254 - accuracy: 0.8858\n",
            "Epoch 27/50\n",
            "1563/1563 [==============================] - 19s 12ms/step - loss: 0.3156 - accuracy: 0.8908\n",
            "Epoch 28/50\n",
            "1563/1563 [==============================] - 19s 12ms/step - loss: 0.3006 - accuracy: 0.8961\n",
            "Epoch 29/50\n",
            "1563/1563 [==============================] - 19s 12ms/step - loss: 0.2893 - accuracy: 0.8990\n",
            "Epoch 30/50\n",
            "1563/1563 [==============================] - 19s 12ms/step - loss: 0.2817 - accuracy: 0.9012\n",
            "Epoch 31/50\n",
            "1563/1563 [==============================] - 19s 12ms/step - loss: 0.2730 - accuracy: 0.9045\n",
            "Epoch 32/50\n",
            "1563/1563 [==============================] - 19s 12ms/step - loss: 0.2638 - accuracy: 0.9087\n",
            "Epoch 33/50\n",
            "1563/1563 [==============================] - 19s 12ms/step - loss: 0.2556 - accuracy: 0.9118\n",
            "Epoch 34/50\n",
            "1563/1563 [==============================] - 19s 12ms/step - loss: 0.2434 - accuracy: 0.9155\n",
            "Epoch 35/50\n",
            "1563/1563 [==============================] - 19s 12ms/step - loss: 0.2365 - accuracy: 0.9177\n",
            "Epoch 36/50\n",
            "1563/1563 [==============================] - 19s 12ms/step - loss: 0.2297 - accuracy: 0.9192\n",
            "Epoch 37/50\n",
            "1563/1563 [==============================] - 19s 12ms/step - loss: 0.2200 - accuracy: 0.9224\n",
            "Epoch 38/50\n",
            "1563/1563 [==============================] - 19s 12ms/step - loss: 0.2162 - accuracy: 0.9248\n",
            "Epoch 39/50\n",
            "1563/1563 [==============================] - 19s 12ms/step - loss: 0.2096 - accuracy: 0.9269\n",
            "Epoch 40/50\n",
            "1563/1563 [==============================] - 19s 12ms/step - loss: 0.2088 - accuracy: 0.9267\n",
            "Epoch 41/50\n",
            "1563/1563 [==============================] - 19s 12ms/step - loss: 0.1994 - accuracy: 0.9303\n",
            "Epoch 42/50\n",
            "1563/1563 [==============================] - 19s 12ms/step - loss: 0.1924 - accuracy: 0.9326\n",
            "Epoch 43/50\n",
            "1563/1563 [==============================] - 19s 12ms/step - loss: 0.1833 - accuracy: 0.9364\n",
            "Epoch 44/50\n",
            "1563/1563 [==============================] - 19s 12ms/step - loss: 0.1810 - accuracy: 0.9376\n",
            "Epoch 45/50\n",
            "1563/1563 [==============================] - 19s 12ms/step - loss: 0.1818 - accuracy: 0.9379\n",
            "Epoch 46/50\n",
            "1563/1563 [==============================] - 19s 12ms/step - loss: 0.1758 - accuracy: 0.9379\n",
            "Epoch 47/50\n",
            "1563/1563 [==============================] - 19s 12ms/step - loss: 0.1701 - accuracy: 0.9421\n",
            "Epoch 48/50\n",
            "1563/1563 [==============================] - 19s 12ms/step - loss: 0.1644 - accuracy: 0.9425\n",
            "Epoch 49/50\n",
            "1563/1563 [==============================] - 19s 12ms/step - loss: 0.1651 - accuracy: 0.9433\n",
            "Epoch 50/50\n",
            "1563/1563 [==============================] - 20s 13ms/step - loss: 0.1620 - accuracy: 0.9443\n",
            "313/313 [==============================] - 2s 5ms/step - loss: 0.5945 - accuracy: 0.8411\n"
          ]
        },
        {
          "data": {
            "text/plain": [
              "[0.5944812297821045, 0.8410999774932861]"
            ]
          },
          "execution_count": 24,
          "metadata": {},
          "output_type": "execute_result"
        }
      ],
      "source": [
        "model.compile(optimizer= \"adamax\" , loss= tf.keras.losses.sparse_categorical_crossentropy , metrics=[\"accuracy\"])\n",
        "\n",
        "out = model.fit(x_train , y_train , epochs= 50)\n",
        "model.evaluate(x_test , y_test)"
      ]
    },
    {
      "cell_type": "code",
      "execution_count": 25,
      "metadata": {
        "colab": {
          "base_uri": "https://localhost:8080/"
        },
        "id": "yWlUVGEwRdMJ",
        "outputId": "12d0bf23-4cae-425c-ea06-c4ed73b7817f"
      },
      "outputs": [
        {
          "name": "stdout",
          "output_type": "stream",
          "text": [
            "Model: \"sequential_3\"\n",
            "_________________________________________________________________\n",
            " Layer (type)                Output Shape              Param #   \n",
            "=================================================================\n",
            " conv2d_12 (Conv2D)          (None, 30, 30, 128)       3584      \n",
            "                                                                 \n",
            " conv2d_13 (Conv2D)          (None, 28, 28, 128)       147584    \n",
            "                                                                 \n",
            " max_pooling2d_6 (MaxPoolin  (None, 14, 14, 128)       0         \n",
            " g2D)                                                            \n",
            "                                                                 \n",
            " dropout_9 (Dropout)         (None, 14, 14, 128)       0         \n",
            "                                                                 \n",
            " conv2d_14 (Conv2D)          (None, 12, 12, 256)       295168    \n",
            "                                                                 \n",
            " conv2d_15 (Conv2D)          (None, 10, 10, 256)       590080    \n",
            "                                                                 \n",
            " max_pooling2d_7 (MaxPoolin  (None, 5, 5, 256)         0         \n",
            " g2D)                                                            \n",
            "                                                                 \n",
            " dropout_10 (Dropout)        (None, 5, 5, 256)         0         \n",
            "                                                                 \n",
            " flatten_3 (Flatten)         (None, 6400)              0         \n",
            "                                                                 \n",
            " dense_6 (Dense)             (None, 250)               1600250   \n",
            "                                                                 \n",
            " dropout_11 (Dropout)        (None, 250)               0         \n",
            "                                                                 \n",
            " dense_7 (Dense)             (None, 10)                2510      \n",
            "                                                                 \n",
            "=================================================================\n",
            "Total params: 2639176 (10.07 MB)\n",
            "Trainable params: 2639176 (10.07 MB)\n",
            "Non-trainable params: 0 (0.00 Byte)\n",
            "_________________________________________________________________\n"
          ]
        }
      ],
      "source": [
        "model.summary()"
      ]
    },
    {
      "cell_type": "code",
      "execution_count": 26,
      "metadata": {
        "colab": {
          "base_uri": "https://localhost:8080/",
          "height": 472
        },
        "id": "ZToowQE64FeR",
        "outputId": "d59aa2d9-e152-41f4-a2d3-1b12f56be693"
      },
      "outputs": [
        {
          "data": {
            "image/png": "[encoded data removed]",
            "text/plain": [
              "<Figure size 640x480 with 1 Axes>"
            ]
          },
          "metadata": {},
          "output_type": "display_data"
        }
      ],
      "source": [
        "plt.plot(out.history[\"loss\"] )\n",
        "plt.plot( out.history[\"accuracy\"])\n",
        "plt.xlabel(\"epoches\")\n",
        "plt.ylabel(\"loss\")\n",
        "plt.title(\"train loss & accuracy\")\n",
        "plt.legend([\"loss\" , \"accuracy\"])\n",
        "plt.show()"
      ]
    }
  ],
  "metadata": {
    "accelerator": "GPU",
    "colab": {
      "gpuType": "T4",
      "provenance": []
    },
    "kernelspec": {
      "display_name": "Python 3",
      "name": "python3"
    },
    "language_info": {
      "name": "python"
    }
  },
  "nbformat": 4,
  "nbformat_minor": 0
}
